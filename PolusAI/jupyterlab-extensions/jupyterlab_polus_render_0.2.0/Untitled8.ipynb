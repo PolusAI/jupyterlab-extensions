{
 "cells": [
  {
   "cell_type": "code",
   "execution_count": 1,
   "id": "757a5991-83b5-4c8a-aed7-4d3ec427f9ca",
   "metadata": {},
   "outputs": [],
   "source": [
    "import jlp_polus_render"
   ]
  },
  {
   "cell_type": "code",
   "execution_count": 2,
   "id": "7d520579-e5fc-4a10-92ed-e4e73a2696d9",
   "metadata": {},
   "outputs": [
    {
     "data": {
      "application/vnd.jupyter.widget-view+json": {
       "model_id": "076ce6eaaaae4a21aadb5beee5864afc",
       "version_major": 2,
       "version_minor": 0
      },
      "text/plain": [
       "ExampleWidget()"
      ]
     },
     "execution_count": 2,
     "metadata": {},
     "output_type": "execute_result"
    }
   ],
   "source": [
    "jlp_polus_render.ExampleWidget()"
   ]
  },
  {
   "cell_type": "code",
   "execution_count": null,
   "id": "87a78f7a-d2f5-4ec1-97a8-3f46d99bf6cd",
   "metadata": {},
   "outputs": [],
   "source": [
    "[Open Browser Console for more detailed log - Double click to close this message]\n",
    "Failed to load model class 'ExampleModel' from module 'jlp-polus-render'\n",
    "Error: No version of module jlp-polus-render is registered\n",
    "    at f.loadClass (http://localhost:8888/lab/extensions/@jupyter-widgets/jupyterlab-manager/static/134.a63a8d293fb35a52dc25.js?v=a63a8d293fb35a52dc25:1:74936)\n",
    "    at f.loadModelClass (http://localhost:8888/lab/extensions/@jupyter-widgets/jupyterlab-manager/static/336.ebc7a55ea1768712771f.js?v=ebc7a55ea1768712771f:1:10729)\n",
    "    at f._make_model (http://localhost:8888/lab/extensions/@jupyter-widgets/jupyterlab-manager/static/336.ebc7a55ea1768712771f.js?v=ebc7a55ea1768712771f:1:7517)\n",
    "    at f.new_model (http://localhost:8888/lab/extensions/@jupyter-widgets/jupyterlab-manager/static/336.ebc7a55ea1768712771f.js?v=ebc7a55ea1768712771f:1:5137)\n",
    "    at f.handle_comm_open (http://localhost:8888/lab/extensions/@jupyter-widgets/jupyterlab-manager/static/336.ebc7a55ea1768712771f.js?v=ebc7a55ea1768712771f:1:3894)\n",
    "    at _handleCommOpen (http://localhost:8888/lab/extensions/@jupyter-widgets/jupyterlab-manager/static/134.a63a8d293fb35a52dc25.js?v=a63a8d293fb35a52dc25:1:73473)\n",
    "    at y._handleCommOpen (http://localhost:8888/static/lab/jlab_core.bca8c55f9011e1fc4717.js?v=bca8c55f9011e1fc4717:1:1242320)\n",
    "    at async y._handleMessage (http://localhost:8888/static/lab/jlab_core.bca8c55f9011e1fc4717.js?v=bca8c55f9011e1fc4717:1:1244310)\n",
    "\n",
    "Click to add a cell."
   ]
  },
  {
   "cell_type": "code",
   "execution_count": null,
   "id": "67758908-c43f-4f95-b13e-572bbe9c34c8",
   "metadata": {},
   "outputs": [],
   "source": [
    "jlp"
   ]
  },
  {
   "cell_type": "code",
   "execution_count": null,
   "id": "924e1fc0-4fea-481c-8108-ee8c513af102",
   "metadata": {},
   "outputs": [],
   "source": []
  }
 ],
 "metadata": {
  "kernelspec": {
   "display_name": "Python 3 (ipykernel)",
   "language": "python",
   "name": "python3"
  },
  "language_info": {
   "codemirror_mode": {
    "name": "ipython",
    "version": 3
   },
   "file_extension": ".py",
   "mimetype": "text/x-python",
   "name": "python",
   "nbconvert_exporter": "python",
   "pygments_lexer": "ipython3",
   "version": "3.11.7"
  }
 },
 "nbformat": 4,
 "nbformat_minor": 5
}
