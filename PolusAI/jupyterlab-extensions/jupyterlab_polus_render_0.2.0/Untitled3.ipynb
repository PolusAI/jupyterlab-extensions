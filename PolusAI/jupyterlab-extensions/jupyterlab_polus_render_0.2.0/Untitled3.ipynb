{
 "cells": [
  {
   "cell_type": "code",
   "execution_count": 1,
   "id": "1b654d07-5d5b-4641-976a-0b013cacc1bb",
   "metadata": {},
   "outputs": [],
   "source": [
    "import jlp_polus_render"
   ]
  },
  {
   "cell_type": "code",
   "execution_count": null,
   "id": "f12f374b-5345-46a6-ae9e-c35a066f697d",
   "metadata": {},
   "outputs": [],
   "source": [
    "jlp_polus_render"
   ]
  }
 ],
 "metadata": {
  "kernelspec": {
   "display_name": "Python 3 (ipykernel)",
   "language": "python",
   "name": "python3"
  },
  "language_info": {
   "codemirror_mode": {
    "name": "ipython",
    "version": 3
   },
   "file_extension": ".py",
   "mimetype": "text/x-python",
   "name": "python",
   "nbconvert_exporter": "python",
   "pygments_lexer": "ipython3",
   "version": "3.11.7"
  }
 },
 "nbformat": 4,
 "nbformat_minor": 5
}
