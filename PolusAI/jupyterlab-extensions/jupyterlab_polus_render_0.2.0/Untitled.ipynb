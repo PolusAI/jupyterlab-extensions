{
 "cells": [
  {
   "cell_type": "code",
   "execution_count": 1,
   "id": "252fcd77-e184-492f-b0c4-e7c3a36e1b3f",
   "metadata": {},
   "outputs": [],
   "source": [
    "import jlp_polus_render"
   ]
  },
  {
   "cell_type": "code",
   "execution_count": 2,
   "id": "90c93534-af02-4fb4-9aec-70a976dd46d7",
   "metadata": {},
   "outputs": [
    {
     "ename": "AttributeError",
     "evalue": "module 'jlp_polus_render' has no attribute 'ExampleWidget'",
     "output_type": "error",
     "traceback": [
      "\u001b[0;31m---------------------------------------------------------------------------\u001b[0m",
      "\u001b[0;31mAttributeError\u001b[0m                            Traceback (most recent call last)",
      "Cell \u001b[0;32mIn[2], line 1\u001b[0m\n\u001b[0;32m----> 1\u001b[0m \u001b[43mjlp_polus_render\u001b[49m\u001b[38;5;241;43m.\u001b[39;49m\u001b[43mExampleWidget\u001b[49m()\n",
      "\u001b[0;31mAttributeError\u001b[0m: module 'jlp_polus_render' has no attribute 'ExampleWidget'"
     ]
    }
   ],
   "source": [
    "jlp_polus_render.ExampleWidget()"
   ]
  },
  {
   "cell_type": "code",
   "execution_count": null,
   "id": "1e18d537-04a3-4dea-93a3-cd96d59a6be1",
   "metadata": {},
   "outputs": [],
   "source": []
  }
 ],
 "metadata": {
  "kernelspec": {
   "display_name": "Python 3 (ipykernel)",
   "language": "python",
   "name": "python3"
  },
  "language_info": {
   "codemirror_mode": {
    "name": "ipython",
    "version": 3
   },
   "file_extension": ".py",
   "mimetype": "text/x-python",
   "name": "python",
   "nbconvert_exporter": "python",
   "pygments_lexer": "ipython3",
   "version": "3.11.7"
  }
 },
 "nbformat": 4,
 "nbformat_minor": 5
}
