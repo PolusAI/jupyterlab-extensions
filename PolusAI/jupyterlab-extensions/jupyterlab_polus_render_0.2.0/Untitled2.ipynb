{
 "cells": [
  {
   "cell_type": "code",
   "execution_count": 1,
   "id": "b7fa0858-04e9-4b0a-96d0-3f645e953ac9",
   "metadata": {},
   "outputs": [],
   "source": [
    "import jlp_polus_render"
   ]
  },
  {
   "cell_type": "code",
   "execution_count": 2,
   "id": "cd1aac98-ab73-473e-9f7c-c4f3d96b004e",
   "metadata": {},
   "outputs": [
    {
     "data": {
      "application/vnd.jupyter.widget-view+json": {
       "model_id": "df72e9a99b054f77862309798248f5e3",
       "version_major": 2,
       "version_minor": 0
      },
      "text/plain": [
       "ExampleWidget()"
      ]
     },
     "execution_count": 2,
     "metadata": {},
     "output_type": "execute_result"
    }
   ],
   "source": [
    "jlp_polus_render.ExampleWidget()"
   ]
  },
  {
   "cell_type": "code",
   "execution_count": null,
   "id": "74b3c8f8-d7bb-456c-8b4b-ebce7099fe92",
   "metadata": {},
   "outputs": [],
   "source": []
  }
 ],
 "metadata": {
  "kernelspec": {
   "display_name": "Python 3 (ipykernel)",
   "language": "python",
   "name": "python3"
  },
  "language_info": {
   "codemirror_mode": {
    "name": "ipython",
    "version": 3
   },
   "file_extension": ".py",
   "mimetype": "text/x-python",
   "name": "python",
   "nbconvert_exporter": "python",
   "pygments_lexer": "ipython3",
   "version": "3.11.7"
  }
 },
 "nbformat": 4,
 "nbformat_minor": 5
}
