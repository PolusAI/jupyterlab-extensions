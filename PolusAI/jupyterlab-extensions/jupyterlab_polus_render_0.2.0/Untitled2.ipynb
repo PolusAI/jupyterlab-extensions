{
 "cells": [
  {
   "cell_type": "code",
   "execution_count": 1,
   "id": "f396835b-2687-4ce0-a81a-a434d2356834",
   "metadata": {},
   "outputs": [
    {
     "ename": "ImportError",
     "evalue": "cannot import name 'setup_handlers' from 'jlp_polus_render.handlers' (/Users/akshat.saini/Documents/pj/forks/jupyterlab-extensions/PolusAI/jupyterlab-extensions/jupyterlab_polus_render_0.2.0/jlp_polus_render/handlers.py)",
     "output_type": "error",
     "traceback": [
      "\u001b[0;31m---------------------------------------------------------------------------\u001b[0m",
      "\u001b[0;31mImportError\u001b[0m                               Traceback (most recent call last)",
      "Cell \u001b[0;32mIn[1], line 1\u001b[0m\n\u001b[0;32m----> 1\u001b[0m \u001b[38;5;28;01mimport\u001b[39;00m \u001b[38;5;21;01mjlp_polus_render\u001b[39;00m\n",
      "File \u001b[0;32m~/Documents/pj/forks/jupyterlab-extensions/PolusAI/jupyterlab-extensions/jupyterlab_polus_render_0.2.0/jlp_polus_render/__init__.py:10\u001b[0m\n\u001b[1;32m      8\u001b[0m     warnings\u001b[38;5;241m.\u001b[39mwarn(\u001b[38;5;124m\"\u001b[39m\u001b[38;5;124mImporting \u001b[39m\u001b[38;5;124m'\u001b[39m\u001b[38;5;124mjlp_polus_render\u001b[39m\u001b[38;5;124m'\u001b[39m\u001b[38;5;124m outside a proper installation.\u001b[39m\u001b[38;5;124m\"\u001b[39m)\n\u001b[1;32m      9\u001b[0m     __version__ \u001b[38;5;241m=\u001b[39m \u001b[38;5;124m\"\u001b[39m\u001b[38;5;124mdev\u001b[39m\u001b[38;5;124m\"\u001b[39m\n\u001b[0;32m---> 10\u001b[0m \u001b[38;5;28;01mfrom\u001b[39;00m \u001b[38;5;21;01m.\u001b[39;00m\u001b[38;5;21;01mhandlers\u001b[39;00m \u001b[38;5;28;01mimport\u001b[39;00m setup_handlers\n\u001b[1;32m     11\u001b[0m \u001b[38;5;28;01mfrom\u001b[39;00m \u001b[38;5;21;01m.\u001b[39;00m\u001b[38;5;21;01mapplication\u001b[39;00m \u001b[38;5;28;01mimport\u001b[39;00m Application\n\u001b[1;32m     13\u001b[0m \u001b[38;5;66;03m# Sets server activation ID and the app itself, called from jupyter server --ServerApp.jpserver_extensions=\"{'simple_ext1': True}\"\u001b[39;00m\n",
      "\u001b[0;31mImportError\u001b[0m: cannot import name 'setup_handlers' from 'jlp_polus_render.handlers' (/Users/akshat.saini/Documents/pj/forks/jupyterlab-extensions/PolusAI/jupyterlab-extensions/jupyterlab_polus_render_0.2.0/jlp_polus_render/handlers.py)"
     ]
    }
   ],
   "source": [
    "import jlp_polus_render"
   ]
  },
  {
   "cell_type": "code",
   "execution_count": null,
   "id": "7c50bb06-4975-43b3-a57a-5b6bc16163df",
   "metadata": {},
   "outputs": [],
   "source": []
  }
 ],
 "metadata": {
  "kernelspec": {
   "display_name": "Python 3 (ipykernel)",
   "language": "python",
   "name": "python3"
  },
  "language_info": {
   "codemirror_mode": {
    "name": "ipython",
    "version": 3
   },
   "file_extension": ".py",
   "mimetype": "text/x-python",
   "name": "python",
   "nbconvert_exporter": "python",
   "pygments_lexer": "ipython3",
   "version": "3.11.7"
  }
 },
 "nbformat": 4,
 "nbformat_minor": 5
}
