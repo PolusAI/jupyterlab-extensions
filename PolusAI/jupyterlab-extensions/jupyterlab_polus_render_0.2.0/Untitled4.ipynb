{
 "cells": [
  {
   "cell_type": "code",
   "execution_count": 1,
   "id": "1d1da42c-71d1-4ce1-95c6-c8dbdc2d9255",
   "metadata": {},
   "outputs": [
    {
     "ename": "ImportError",
     "evalue": "cannot import name 'version_info' from 'jlp_polus_render._version' (/Users/akshat.saini/Documents/pj/forks/jupyterlab-extensions/PolusAI/jupyterlab-extensions/jupyterlab_polus_render_0.2.0/jlp_polus_render/_version.py)",
     "output_type": "error",
     "traceback": [
      "\u001b[0;31m---------------------------------------------------------------------------\u001b[0m",
      "\u001b[0;31mImportError\u001b[0m                               Traceback (most recent call last)",
      "Cell \u001b[0;32mIn[1], line 1\u001b[0m\n\u001b[0;32m----> 1\u001b[0m \u001b[38;5;28;01mimport\u001b[39;00m \u001b[38;5;21;01mjlp_polus_render\u001b[39;00m\n",
      "File \u001b[0;32m~/Documents/pj/forks/jupyterlab-extensions/PolusAI/jupyterlab-extensions/jupyterlab_polus_render_0.2.0/jlp_polus_render/__init__.py:51\u001b[0m\n\u001b[1;32m     44\u001b[0m \u001b[38;5;66;03m#!/usr/bin/env python\u001b[39;00m\n\u001b[1;32m     45\u001b[0m \u001b[38;5;66;03m# coding: utf-8\u001b[39;00m\n\u001b[1;32m     46\u001b[0m \n\u001b[1;32m     47\u001b[0m \u001b[38;5;66;03m# Copyright (c) akshat.saini.\u001b[39;00m\n\u001b[1;32m     48\u001b[0m \u001b[38;5;66;03m# Distributed under the terms of the Modified BSD License.\u001b[39;00m\n\u001b[1;32m     50\u001b[0m \u001b[38;5;28;01mfrom\u001b[39;00m \u001b[38;5;21;01m.\u001b[39;00m\u001b[38;5;21;01mexample\u001b[39;00m \u001b[38;5;28;01mimport\u001b[39;00m ExampleWidget\n\u001b[0;32m---> 51\u001b[0m \u001b[38;5;28;01mfrom\u001b[39;00m \u001b[38;5;21;01m.\u001b[39;00m\u001b[38;5;21;01m_version\u001b[39;00m \u001b[38;5;28;01mimport\u001b[39;00m __version__, version_info\n\u001b[1;32m     53\u001b[0m \u001b[38;5;28;01mdef\u001b[39;00m \u001b[38;5;21m_jupyter_labextension_paths\u001b[39m():\n\u001b[1;32m     54\u001b[0m \u001b[38;5;250m    \u001b[39m\u001b[38;5;124;03m\"\"\"Called by Jupyter Lab Server to detect if it is a valid labextension and\u001b[39;00m\n\u001b[1;32m     55\u001b[0m \u001b[38;5;124;03m    to install the widget\u001b[39;00m\n\u001b[1;32m     56\u001b[0m \u001b[38;5;124;03m    Returns\u001b[39;00m\n\u001b[0;32m   (...)\u001b[0m\n\u001b[1;32m     63\u001b[0m \u001b[38;5;124;03m        during widget installation\u001b[39;00m\n\u001b[1;32m     64\u001b[0m \u001b[38;5;124;03m    \"\"\"\u001b[39;00m\n",
      "\u001b[0;31mImportError\u001b[0m: cannot import name 'version_info' from 'jlp_polus_render._version' (/Users/akshat.saini/Documents/pj/forks/jupyterlab-extensions/PolusAI/jupyterlab-extensions/jupyterlab_polus_render_0.2.0/jlp_polus_render/_version.py)"
     ]
    }
   ],
   "source": [
    "import jlp_polus_render"
   ]
  },
  {
   "cell_type": "code",
   "execution_count": null,
   "id": "7662d09a-2037-4480-96d9-8fde7f2ae675",
   "metadata": {},
   "outputs": [],
   "source": []
  }
 ],
 "metadata": {
  "kernelspec": {
   "display_name": "Python 3 (ipykernel)",
   "language": "python",
   "name": "python3"
  },
  "language_info": {
   "codemirror_mode": {
    "name": "ipython",
    "version": 3
   },
   "file_extension": ".py",
   "mimetype": "text/x-python",
   "name": "python",
   "nbconvert_exporter": "python",
   "pygments_lexer": "ipython3",
   "version": "3.11.7"
  }
 },
 "nbformat": 4,
 "nbformat_minor": 5
}
