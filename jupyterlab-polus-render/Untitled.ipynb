{
 "cells": [
  {
   "cell_type": "code",
   "execution_count": 1,
   "id": "60b32d73-b078-4606-8948-3e9ea1a71304",
   "metadata": {},
   "outputs": [],
   "source": [
    "import jupyterlab_polus_render"
   ]
  },
  {
   "cell_type": "code",
   "execution_count": 2,
   "id": "a5fc0a30-0aa1-4a4c-8cab-e8756a04da79",
   "metadata": {},
   "outputs": [
    {
     "data": {
      "application/vnd.jupyter.widget-view+json": {
       "model_id": "21d0976ecd614105b1abf765bc516b21",
       "version_major": 2,
       "version_minor": 0
      },
      "text/plain": [
       "ExampleWidget(full_image_path='/Users/akshat.saini/Documents/pj/forks/jupyterlab-extensions/jupyterlab-polus-r…"
      ]
     },
     "execution_count": 2,
     "metadata": {},
     "output_type": "execute_result"
    }
   ],
   "source": [
    "jupyterlab_polus_render.ExampleWidget()"
   ]
  },
  {
   "cell_type": "code",
   "execution_count": 3,
   "id": "68acd3ac-c4f1-459d-b470-2ed8e3581a51",
   "metadata": {},
   "outputs": [
    {
     "data": {
      "application/vnd.jupyter.widget-view+json": {
       "model_id": "5c8fe4a44998474795895ef919676d8f",
       "version_major": 2,
       "version_minor": 0
      },
      "text/plain": [
       "ExampleWidget(full_image_path='/Users/akshat.saini/Documents/pj/forks/jupyterlab-extensions/jupyterlab-polus-r…"
      ]
     },
     "execution_count": 3,
     "metadata": {},
     "output_type": "execute_result"
    }
   ],
   "source": [
    "jupyterlab_polus_render.ExampleWidget(height=900)"
   ]
  },
  {
   "cell_type": "code",
   "execution_count": 4,
   "id": "86889e9f-2038-4871-a13f-c594320a37e4",
   "metadata": {},
   "outputs": [
    {
     "data": {
      "application/vnd.jupyter.widget-view+json": {
       "model_id": "628250a6e0bc42ff8122cac3e3fadbc4",
       "version_major": 2,
       "version_minor": 0
      },
      "text/plain": [
       "ExampleWidget(full_image_path='/Users/akshat.saini/Documents/pj/forks/jupyterlab-extensions/jupyterlab-polus-r…"
      ]
     },
     "execution_count": 4,
     "metadata": {},
     "output_type": "execute_result"
    }
   ],
   "source": [
    "jupyterlab_polus_render.ExampleWidget(imagePath='images/LuCa-7color_3x3component_data.ome.tif', height=900)"
   ]
  },
  {
   "cell_type": "code",
   "execution_count": null,
   "id": "62cbaf37-7342-411d-805b-e594ddeefc17",
   "metadata": {},
   "outputs": [],
   "source": []
  }
 ],
 "metadata": {
  "kernelspec": {
   "display_name": "Python 3 (ipykernel)",
   "language": "python",
   "name": "python3"
  },
  "language_info": {
   "codemirror_mode": {
    "name": "ipython",
    "version": 3
   },
   "file_extension": ".py",
   "mimetype": "text/x-python",
   "name": "python",
   "nbconvert_exporter": "python",
   "pygments_lexer": "ipython3",
   "version": "3.10.13"
  }
 },
 "nbformat": 4,
 "nbformat_minor": 5
}
