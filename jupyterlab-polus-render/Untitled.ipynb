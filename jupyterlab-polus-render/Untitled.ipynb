{
 "cells": [
  {
   "cell_type": "code",
   "execution_count": 1,
   "id": "cbbf053a-dc8f-4bb8-bfb8-99f1f45c7d6d",
   "metadata": {},
   "outputs": [],
   "source": [
    "import jupyterlab_polus_render"
   ]
  },
  {
   "cell_type": "code",
   "execution_count": 2,
   "id": "30336e55-95ee-4967-b8da-0b33efab8028",
   "metadata": {},
   "outputs": [
    {
     "data": {
      "application/vnd.jupyter.widget-view+json": {
       "model_id": "3301110e5cc14359a50bd561b1c18e59",
       "version_major": 2,
       "version_minor": 0
      },
      "text/plain": [
       "Render(full_image_path='/Users/akshat.saini/Documents/pj/forks/jupyterlab-extensions/jupyterlab-polus-render',…"
      ]
     },
     "execution_count": 2,
     "metadata": {},
     "output_type": "execute_result"
    }
   ],
   "source": [
    "jupyterlab_polus_render.Render(height =900)"
   ]
  },
  {
   "cell_type": "code",
   "execution_count": 3,
   "id": "4a936504-3fef-4483-b48f-bec065f1c5b5",
   "metadata": {},
   "outputs": [
    {
     "data": {
      "application/vnd.jupyter.widget-view+json": {
       "model_id": "9b6861642925479585308e6bf4b8a451",
       "version_major": 2,
       "version_minor": 0
      },
      "text/plain": [
       "Render(full_image_path='/Users/akshat.saini/Documents/pj/forks/jupyterlab-extensions/jupyterlab-polus-render/i…"
      ]
     },
     "execution_count": 3,
     "metadata": {},
     "output_type": "execute_result"
    }
   ],
   "source": [
    "jupyterlab_polus_render.Render(imagePath='images/LuCa-7color_3x3component_data.ome.tif', height =900)"
   ]
  },
  {
   "cell_type": "code",
   "execution_count": 4,
   "id": "4bfb962c-33db-42dc-b673-10700c068cf5",
   "metadata": {},
   "outputs": [
    {
     "data": {
      "application/vnd.jupyter.widget-view+json": {
       "model_id": "1548589873b940df89241ce0f6af238a",
       "version_major": 2,
       "version_minor": 0
      },
      "text/plain": [
       "Render(full_image_path='/Users/akshat.saini/Documents/pj/forks/jupyterlab-extensions/jupyterlab-polus-render/i…"
      ]
     },
     "execution_count": 4,
     "metadata": {},
     "output_type": "execute_result"
    }
   ],
   "source": [
    "jupyterlab_polus_render.Render(imagePath='images/LuCa-7color_3x3component_data.ome.tif', overlayPath='images/overlay_render1.json', height =900)"
   ]
  },
  {
   "cell_type": "code",
   "execution_count": null,
   "id": "7a60ac4b-b6b6-4327-8bc3-18e18f5a89a7",
   "metadata": {},
   "outputs": [],
   "source": []
  }
 ],
 "metadata": {
  "kernelspec": {
   "display_name": "Python 3 (ipykernel)",
   "language": "python",
   "name": "python3"
  },
  "language_info": {
   "codemirror_mode": {
    "name": "ipython",
    "version": 3
   },
   "file_extension": ".py",
   "mimetype": "text/x-python",
   "name": "python",
   "nbconvert_exporter": "python",
   "pygments_lexer": "ipython3",
   "version": "3.10.13"
  }
 },
 "nbformat": 4,
 "nbformat_minor": 5
}
