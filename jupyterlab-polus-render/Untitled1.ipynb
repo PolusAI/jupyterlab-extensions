{
 "cells": [
  {
   "cell_type": "code",
   "execution_count": 1,
   "id": "64ae0d40-77cc-4f1a-9c39-8fd956781c87",
   "metadata": {},
   "outputs": [],
   "source": [
    "import jupyterlab_polus_render"
   ]
  },
  {
   "cell_type": "code",
   "execution_count": 2,
   "id": "e410caca-9ae7-40f3-871d-9f260de97bc8",
   "metadata": {
    "scrolled": true
   },
   "outputs": [
    {
     "data": {
      "application/vnd.jupyter.widget-view+json": {
       "model_id": "a47e5e64c14b49a0ad7ca0b643d4c9e4",
       "version_major": 2,
       "version_minor": 0
      },
      "text/plain": [
       "Render(full_image_path='/Users/akshat.saini/Documents/pj/forks/jupyterlab-extensions/jupyterlab-polus-render',…"
      ]
     },
     "execution_count": 2,
     "metadata": {},
     "output_type": "execute_result"
    }
   ],
   "source": [
    "jupyterlab_polus_render.Render(height=900)"
   ]
  },
  {
   "cell_type": "code",
   "execution_count": 3,
   "id": "c06cc8e9-4cdc-47f5-b74f-2278237b03df",
   "metadata": {
    "scrolled": true
   },
   "outputs": [
    {
     "data": {
      "application/vnd.jupyter.widget-view+json": {
       "model_id": "3ce96960d1e4424e90baff482b7bf9e7",
       "version_major": 2,
       "version_minor": 0
      },
      "text/plain": [
       "Render(full_image_path='/Users/akshat.saini/Documents/pj/forks/jupyterlab-extensions/jupyterlab-polus-render/i…"
      ]
     },
     "execution_count": 3,
     "metadata": {},
     "output_type": "execute_result"
    }
   ],
   "source": [
    "jupyterlab_polus_render.Render(imagePath='images/LuCa-7color_3x3component_data.ome.tif', height=900)"
   ]
  },
  {
   "cell_type": "code",
   "execution_count": 4,
   "id": "9728f8ec-0d96-48ac-b04c-fd6e5395a1f4",
   "metadata": {},
   "outputs": [
    {
     "data": {
      "application/vnd.jupyter.widget-view+json": {
       "model_id": "eab83761963742cb8874e50526c7ec23",
       "version_major": 2,
       "version_minor": 0
      },
      "text/plain": [
       "Render(full_image_path='/Users/akshat.saini/Documents/pj/forks/jupyterlab-extensions/jupyterlab-polus-render/i…"
      ]
     },
     "execution_count": 4,
     "metadata": {},
     "output_type": "execute_result"
    }
   ],
   "source": [
    "jupyterlab_polus_render.Render(imagePath='images/LuCa-7color_3x3component_data.ome.tif', overlayPath='images/overlay_render1.json', height=900)"
   ]
  },
  {
   "cell_type": "code",
   "execution_count": 5,
   "id": "fa093a79-9d39-4d56-a63d-3a1314567fe9",
   "metadata": {},
   "outputs": [
    {
     "data": {
      "application/vnd.jupyter.widget-view+json": {
       "model_id": "3231e86fbf9e4c3bb7bd5fe43ab8edd9",
       "version_major": 2,
       "version_minor": 0
      },
      "text/plain": [
       "Render(full_image_path='/Users/akshat.saini/Documents/pj/forks/jupyterlab-extensions/jupyterlab-polus-render/i…"
      ]
     },
     "execution_count": 5,
     "metadata": {},
     "output_type": "execute_result"
    }
   ],
   "source": [
    "jupyterlab_polus_render.Render(imagePath='images/LuCa-7color_3x3component_data.ome.tif', overlayPath='/Users/akshat.saini/Documents/pj/forks/jupyterlab-extensions/jupyterlab-polus-render/images/overlay_render1.json', height=900)"
   ]
  },
  {
   "cell_type": "code",
   "execution_count": null,
   "id": "12abae5b-d5e5-41a3-93a1-16f8bc3c1b28",
   "metadata": {},
   "outputs": [],
   "source": []
  }
 ],
 "metadata": {
  "kernelspec": {
   "display_name": "Python 3 (ipykernel)",
   "language": "python",
   "name": "python3"
  },
  "language_info": {
   "codemirror_mode": {
    "name": "ipython",
    "version": 3
   },
   "file_extension": ".py",
   "mimetype": "text/x-python",
   "name": "python",
   "nbconvert_exporter": "python",
   "pygments_lexer": "ipython3",
   "version": "3.10.13"
  }
 },
 "nbformat": 4,
 "nbformat_minor": 5
}
