{
 "cells": [
  {
   "cell_type": "code",
   "execution_count": 1,
   "id": "49d910d7-163f-44f7-acca-924e7701ee94",
   "metadata": {
    "tags": []
   },
   "outputs": [],
   "source": [
    "import widget1"
   ]
  },
  {
   "cell_type": "code",
   "execution_count": 2,
   "id": "070a7cc3-5121-4b68-9b36-cdf33ba4c5e4",
   "metadata": {
    "tags": []
   },
   "outputs": [
    {
     "data": {
      "application/vnd.jupyter.widget-view+json": {
       "model_id": "50ed7588366b49b69a6664e6e7aeaa0e",
       "version_major": 2,
       "version_minor": 0
      },
      "text/plain": [
       "ExampleWidget()"
      ]
     },
     "execution_count": 2,
     "metadata": {},
     "output_type": "execute_result"
    }
   ],
   "source": [
    "widget1.ExampleWidget()"
   ]
  },
  {
   "cell_type": "code",
   "execution_count": null,
   "id": "d5e4a02d-bde6-4fa9-b20e-1f839b7f35a0",
   "metadata": {},
   "outputs": [],
   "source": []
  }
 ],
 "metadata": {
  "kernelspec": {
   "display_name": "Python 3 (ipykernel)",
   "language": "python",
   "name": "python3"
  },
  "language_info": {
   "codemirror_mode": {
    "name": "ipython",
    "version": 3
   },
   "file_extension": ".py",
   "mimetype": "text/x-python",
   "name": "python",
   "nbconvert_exporter": "python",
   "pygments_lexer": "ipython3",
   "version": "3.10.13"
  }
 },
 "nbformat": 4,
 "nbformat_minor": 5
}
