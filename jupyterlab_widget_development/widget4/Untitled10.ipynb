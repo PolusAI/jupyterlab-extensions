{
 "cells": [
  {
   "cell_type": "code",
   "execution_count": 1,
   "id": "22b404a5-ee52-4d64-b36c-ca59b545f40f",
   "metadata": {},
   "outputs": [],
   "source": [
    "import widget4"
   ]
  },
  {
   "cell_type": "code",
   "execution_count": 4,
   "id": "42994235-dd69-4641-aca0-0f02b40d7609",
   "metadata": {},
   "outputs": [
    {
     "data": {
      "application/vnd.jupyter.widget-view+json": {
       "model_id": "624349c06836453e85be40a355d24ec8",
       "version_major": 2,
       "version_minor": 0
      },
      "text/plain": [
       "ExampleWidget(imageUrl='images/renderui-2.png')"
      ]
     },
     "execution_count": 4,
     "metadata": {},
     "output_type": "execute_result"
    }
   ],
   "source": [
    "widget4.ExampleWidget(imageUrl='images/renderui-2.png')"
   ]
  },
  {
   "cell_type": "code",
   "execution_count": 5,
   "id": "2f8e48e3-d4f3-450f-81be-962cc77a0fb2",
   "metadata": {},
   "outputs": [
    {
     "data": {
      "application/vnd.jupyter.widget-view+json": {
       "model_id": "400550487098466aaea66cd95873662b",
       "version_major": 2,
       "version_minor": 0
      },
      "text/plain": [
       "ExampleWidget()"
      ]
     },
     "execution_count": 5,
     "metadata": {},
     "output_type": "execute_result"
    }
   ],
   "source": [
    "widget4.ExampleWidget()"
   ]
  },
  {
   "cell_type": "code",
   "execution_count": null,
   "id": "c97078b3-7905-4974-b02d-c58a4885f996",
   "metadata": {},
   "outputs": [],
   "source": []
  }
 ],
 "metadata": {
  "kernelspec": {
   "display_name": "Python 3 (ipykernel)",
   "language": "python",
   "name": "python3"
  },
  "language_info": {
   "codemirror_mode": {
    "name": "ipython",
    "version": 3
   },
   "file_extension": ".py",
   "mimetype": "text/x-python",
   "name": "python",
   "nbconvert_exporter": "python",
   "pygments_lexer": "ipython3",
   "version": "3.10.13"
  }
 },
 "nbformat": 4,
 "nbformat_minor": 5
}
