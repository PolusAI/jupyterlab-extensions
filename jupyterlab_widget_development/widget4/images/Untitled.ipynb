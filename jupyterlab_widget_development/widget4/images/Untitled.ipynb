{
 "cells": [
  {
   "cell_type": "code",
   "execution_count": 1,
   "id": "14bb33a6-8dfd-4733-a851-c4948539ecbb",
   "metadata": {},
   "outputs": [],
   "source": [
    "import widget4"
   ]
  },
  {
   "cell_type": "code",
   "execution_count": null,
   "id": "ad473f93-58d0-4151-945e-0d36991cf53b",
   "metadata": {},
   "outputs": [],
   "source": [
    "widget4.ExampleWidget(imageUrl='Users/akshat.saini/Documents/pj/forks/jupyterlab-extensions/jupyterlab_widget_development/widget4/images/LuCa-7color_3x3component_data.ome.tif')"
   ]
  }
 ],
 "metadata": {
  "kernelspec": {
   "display_name": "Python 3 (ipykernel)",
   "language": "python",
   "name": "python3"
  },
  "language_info": {
   "codemirror_mode": {
    "name": "ipython",
    "version": 3
   },
   "file_extension": ".py",
   "mimetype": "text/x-python",
   "name": "python",
   "nbconvert_exporter": "python",
   "pygments_lexer": "ipython3",
   "version": "3.10.13"
  }
 },
 "nbformat": 4,
 "nbformat_minor": 5
}
