{
 "cells": [
  {
   "cell_type": "code",
   "execution_count": 1,
   "id": "c64a4f71-8753-4a2c-9f47-f137626a103a",
   "metadata": {},
   "outputs": [],
   "source": [
    "import widget4"
   ]
  },
  {
   "cell_type": "code",
   "execution_count": 2,
   "id": "fe35c6e7-1084-46cb-b6a7-7ca657181970",
   "metadata": {},
   "outputs": [
    {
     "data": {
      "application/vnd.jupyter.widget-view+json": {
       "model_id": "a474ffd8123448659f787f35cbe4a1c1",
       "version_major": 2,
       "version_minor": 0
      },
      "text/plain": [
       "ExampleWidget()"
      ]
     },
     "execution_count": 2,
     "metadata": {},
     "output_type": "execute_result"
    }
   ],
   "source": [
    "widget4.ExampleWidget()"
   ]
  },
  {
   "cell_type": "code",
   "execution_count": 3,
   "id": "ce2b5fa3-8ae1-4ad2-821d-bab6f3f9dd7f",
   "metadata": {},
   "outputs": [
    {
     "data": {
      "application/vnd.jupyter.widget-view+json": {
       "model_id": "eff6e9c27b014d41a389c87ae09b5b14",
       "version_major": 2,
       "version_minor": 0
      },
      "text/plain": [
       "ExampleWidget(imageUrl='images/image.png')"
      ]
     },
     "execution_count": 3,
     "metadata": {},
     "output_type": "execute_result"
    }
   ],
   "source": [
    "widget4.ExampleWidget(imageUrl='images/image.png')"
   ]
  },
  {
   "cell_type": "code",
   "execution_count": 4,
   "id": "caae14de-307e-47d7-97d7-428e8e1c47e3",
   "metadata": {},
   "outputs": [
    {
     "ename": "NameError",
     "evalue": "name 'fullSrc' is not defined",
     "output_type": "error",
     "traceback": [
      "\u001b[0;31m---------------------------------------------------------------------------\u001b[0m",
      "\u001b[0;31mNameError\u001b[0m                                 Traceback (most recent call last)",
      "Cell \u001b[0;32mIn[4], line 1\u001b[0m\n\u001b[0;32m----> 1\u001b[0m \u001b[38;5;28mprint\u001b[39m(\u001b[43mfullSrc\u001b[49m)\n",
      "\u001b[0;31mNameError\u001b[0m: name 'fullSrc' is not defined"
     ]
    }
   ],
   "source": [
    "  print(fullSrc)\n"
   ]
  },
  {
   "cell_type": "code",
   "execution_count": null,
   "id": "ec96f567-f86c-44f9-be38-5260efef4a04",
   "metadata": {},
   "outputs": [],
   "source": []
  }
 ],
 "metadata": {
  "kernelspec": {
   "display_name": "Python 3 (ipykernel)",
   "language": "python",
   "name": "python3"
  },
  "language_info": {
   "codemirror_mode": {
    "name": "ipython",
    "version": 3
   },
   "file_extension": ".py",
   "mimetype": "text/x-python",
   "name": "python",
   "nbconvert_exporter": "python",
   "pygments_lexer": "ipython3",
   "version": "3.10.13"
  }
 },
 "nbformat": 4,
 "nbformat_minor": 5
}
