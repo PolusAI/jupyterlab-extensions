{
 "cells": [
  {
   "cell_type": "code",
   "execution_count": 1,
   "id": "105505a4-0774-480d-92e8-d45de0497e4c",
   "metadata": {},
   "outputs": [],
   "source": [
    "import widget4"
   ]
  },
  {
   "cell_type": "code",
   "execution_count": 3,
   "id": "e2f8b8fb-6ee3-4b9e-b353-c258a81eef73",
   "metadata": {},
   "outputs": [
    {
     "data": {
      "application/vnd.jupyter.widget-view+json": {
       "model_id": "5c08cf6b74d94a54bfcac59ada5d6151",
       "version_major": 2,
       "version_minor": 0
      },
      "text/plain": [
       "ExampleWidget(imageUrl='render/file/Users/akshat.saini/Documents/pj/forks/jupyterlab-extensions/jupyterlab_wid…"
      ]
     },
     "execution_count": 3,
     "metadata": {},
     "output_type": "execute_result"
    }
   ],
   "source": [
    "widget4.ExampleWidget(imageUrl='render/file/Users/akshat.saini/Documents/pj/forks/jupyterlab-extensions/jupyterlab_widget_development/widget4/images/LuCa-7color_3x3component_data.ome.tif')"
   ]
  },
  {
   "cell_type": "code",
   "execution_count": null,
   "id": "fb20e8fc-a523-4614-a19f-b8fc470ee4f8",
   "metadata": {},
   "outputs": [],
   "source": [
    "widget4."
   ]
  }
 ],
 "metadata": {
  "kernelspec": {
   "display_name": "Python 3 (ipykernel)",
   "language": "python",
   "name": "python3"
  },
  "language_info": {
   "codemirror_mode": {
    "name": "ipython",
    "version": 3
   },
   "file_extension": ".py",
   "mimetype": "text/x-python",
   "name": "python",
   "nbconvert_exporter": "python",
   "pygments_lexer": "ipython3",
   "version": "3.10.13"
  }
 },
 "nbformat": 4,
 "nbformat_minor": 5
}
