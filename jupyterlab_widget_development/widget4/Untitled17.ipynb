{
 "cells": [
  {
   "cell_type": "code",
   "execution_count": 1,
   "id": "af7f0b62-62f0-4d66-a07d-7f0eb96f94dd",
   "metadata": {},
   "outputs": [],
   "source": [
    "import widget4"
   ]
  },
  {
   "cell_type": "code",
   "execution_count": 2,
   "id": "2ea55e8d-9dc2-4111-9258-1c9d81cbcca0",
   "metadata": {},
   "outputs": [
    {
     "data": {
      "application/vnd.jupyter.widget-view+json": {
       "model_id": "abcd775620554d6aac4b22b3793a54dc",
       "version_major": 2,
       "version_minor": 0
      },
      "text/plain": [
       "ExampleWidget()"
      ]
     },
     "execution_count": 2,
     "metadata": {},
     "output_type": "execute_result"
    }
   ],
   "source": [
    "widget4.ExampleWidget()"
   ]
  },
  {
   "cell_type": "code",
   "execution_count": 5,
   "id": "d60642b0-ebac-44b7-8d79-fcdcfc94f15f",
   "metadata": {},
   "outputs": [
    {
     "data": {
      "application/vnd.jupyter.widget-view+json": {
       "model_id": "639d1602c2ca41c0ac8d9df0bb1e8018",
       "version_major": 2,
       "version_minor": 0
      },
      "text/plain": [
       "ExampleWidget(imageUrl='render/file/images/LuCa-7color_3x3component_data.ome.tif')"
      ]
     },
     "execution_count": 5,
     "metadata": {},
     "output_type": "execute_result"
    }
   ],
   "source": [
    "widget4.ExampleWidget(imageUrl='render/file/images/LuCa-7color_3x3component_data.ome.tif')"
   ]
  },
  {
   "cell_type": "code",
   "execution_count": 6,
   "id": "03a4118a-a4b0-46f4-9155-2c313b9ad226",
   "metadata": {},
   "outputs": [
    {
     "data": {
      "application/vnd.jupyter.widget-view+json": {
       "model_id": "e084f8fe53264596a897989cdabb09b9",
       "version_major": 2,
       "version_minor": 0
      },
      "text/plain": [
       "ExampleWidget(imageUrl='render/file//images/LuCa-7color_3x3component_data.ome.tif')"
      ]
     },
     "execution_count": 6,
     "metadata": {},
     "output_type": "execute_result"
    }
   ],
   "source": [
    "widget4.ExampleWidget(imageUrl='render/file//images/LuCa-7color_3x3component_data.ome.tif')"
   ]
  },
  {
   "cell_type": "code",
   "execution_count": null,
   "id": "82df60ae-aaf1-4346-bb34-ea2e39b308b5",
   "metadata": {},
   "outputs": [],
   "source": []
  }
 ],
 "metadata": {
  "kernelspec": {
   "display_name": "Python 3 (ipykernel)",
   "language": "python",
   "name": "python3"
  },
  "language_info": {
   "codemirror_mode": {
    "name": "ipython",
    "version": 3
   },
   "file_extension": ".py",
   "mimetype": "text/x-python",
   "name": "python",
   "nbconvert_exporter": "python",
   "pygments_lexer": "ipython3",
   "version": "3.10.13"
  }
 },
 "nbformat": 4,
 "nbformat_minor": 5
}
