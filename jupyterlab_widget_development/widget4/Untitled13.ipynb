{
 "cells": [
  {
   "cell_type": "code",
   "execution_count": 1,
   "id": "c556df8c-1d09-495c-9cf7-4a14ca231b37",
   "metadata": {},
   "outputs": [],
   "source": [
    "import widget4"
   ]
  },
  {
   "cell_type": "code",
   "execution_count": 2,
   "id": "f77b0dcc-c732-4bae-a2bd-9d8fa6ea1dfe",
   "metadata": {},
   "outputs": [
    {
     "data": {
      "application/vnd.jupyter.widget-view+json": {
       "model_id": "d1acbbdfe2e844ba8fdaf59ff9056596",
       "version_major": 2,
       "version_minor": 0
      },
      "text/plain": [
       "ExampleWidget()"
      ]
     },
     "execution_count": 2,
     "metadata": {},
     "output_type": "execute_result"
    }
   ],
   "source": [
    "widget4.ExampleWidget()"
   ]
  },
  {
   "cell_type": "code",
   "execution_count": null,
   "id": "f48ea317-0538-4157-8a47-9db4ee12c4a8",
   "metadata": {},
   "outputs": [],
   "source": []
  }
 ],
 "metadata": {
  "kernelspec": {
   "display_name": "Python 3 (ipykernel)",
   "language": "python",
   "name": "python3"
  },
  "language_info": {
   "codemirror_mode": {
    "name": "ipython",
    "version": 3
   },
   "file_extension": ".py",
   "mimetype": "text/x-python",
   "name": "python",
   "nbconvert_exporter": "python",
   "pygments_lexer": "ipython3",
   "version": "3.10.13"
  }
 },
 "nbformat": 4,
 "nbformat_minor": 5
}
