{
 "cells": [
  {
   "cell_type": "code",
   "execution_count": 1,
   "id": "25f90aa6-3050-4ac2-ae22-50e767f86506",
   "metadata": {},
   "outputs": [],
   "source": [
    "import widget4"
   ]
  },
  {
   "cell_type": "code",
   "execution_count": 3,
   "id": "4c8f2d5d-298b-4ab2-bc8f-ea6dd4c0706d",
   "metadata": {},
   "outputs": [
    {
     "data": {
      "application/vnd.jupyter.widget-view+json": {
       "model_id": "af4077922eaa4740bbe6daabc374cebd",
       "version_major": 2,
       "version_minor": 0
      },
      "text/plain": [
       "ExampleWidget(height=1)"
      ]
     },
     "execution_count": 3,
     "metadata": {},
     "output_type": "execute_result"
    }
   ],
   "source": [
    "widget4.ExampleWidget(height=1)"
   ]
  },
  {
   "cell_type": "code",
   "execution_count": null,
   "id": "9e9d01e5-5a1d-4098-acea-ed722bc19c17",
   "metadata": {},
   "outputs": [],
   "source": []
  }
 ],
 "metadata": {
  "kernelspec": {
   "display_name": "Python 3 (ipykernel)",
   "language": "python",
   "name": "python3"
  },
  "language_info": {
   "codemirror_mode": {
    "name": "ipython",
    "version": 3
   },
   "file_extension": ".py",
   "mimetype": "text/x-python",
   "name": "python",
   "nbconvert_exporter": "python",
   "pygments_lexer": "ipython3",
   "version": "3.10.13"
  }
 },
 "nbformat": 4,
 "nbformat_minor": 5
}
