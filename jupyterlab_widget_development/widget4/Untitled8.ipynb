{
 "cells": [
  {
   "cell_type": "code",
   "execution_count": 1,
   "id": "59039e3b-eaab-4356-b0fd-4a608ab06ac9",
   "metadata": {},
   "outputs": [],
   "source": [
    "import widget4"
   ]
  },
  {
   "cell_type": "code",
   "execution_count": 5,
   "id": "fde62759-7ccb-4c1d-919d-35b4f9fae626",
   "metadata": {},
   "outputs": [
    {
     "ename": "NameError",
     "evalue": "name 'kk' is not defined",
     "output_type": "error",
     "traceback": [
      "\u001b[0;31m---------------------------------------------------------------------------\u001b[0m",
      "\u001b[0;31mNameError\u001b[0m                                 Traceback (most recent call last)",
      "Cell \u001b[0;32mIn[5], line 1\u001b[0m\n\u001b[0;32m----> 1\u001b[0m widget4\u001b[38;5;241m.\u001b[39mExampleWidget(\u001b[43mkk\u001b[49m)\n",
      "\u001b[0;31mNameError\u001b[0m: name 'kk' is not defined"
     ]
    }
   ],
   "source": [
    "widget4.ExampleWidget(kk)"
   ]
  },
  {
   "cell_type": "code",
   "execution_count": null,
   "id": "1fd02119-da26-4748-a670-bc2f685ab20b",
   "metadata": {},
   "outputs": [],
   "source": []
  }
 ],
 "metadata": {
  "kernelspec": {
   "display_name": "Python 3 (ipykernel)",
   "language": "python",
   "name": "python3"
  },
  "language_info": {
   "codemirror_mode": {
    "name": "ipython",
    "version": 3
   },
   "file_extension": ".py",
   "mimetype": "text/x-python",
   "name": "python",
   "nbconvert_exporter": "python",
   "pygments_lexer": "ipython3",
   "version": "3.10.13"
  }
 },
 "nbformat": 4,
 "nbformat_minor": 5
}
