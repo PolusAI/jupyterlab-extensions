{
 "cells": [
  {
   "cell_type": "code",
   "execution_count": 1,
   "id": "23219bdd-c8ac-413e-8ab3-e8d79ef7abf2",
   "metadata": {},
   "outputs": [],
   "source": [
    "import widget4"
   ]
  },
  {
   "cell_type": "code",
   "execution_count": 2,
   "id": "f30dfd36-b179-4124-896f-797cff2692a9",
   "metadata": {},
   "outputs": [
    {
     "data": {
      "application/vnd.jupyter.widget-view+json": {
       "model_id": "717bd98ef53d47c3a76887da4ca2e2f3",
       "version_major": 2,
       "version_minor": 0
      },
      "text/plain": [
       "ExampleWidget(full_image_path='/Users/akshat.saini/Documents/pj/forks/jupyterlab-extensions/jupyterlab_widget_…"
      ]
     },
     "execution_count": 2,
     "metadata": {},
     "output_type": "execute_result"
    }
   ],
   "source": [
    "widget4.ExampleWidget(height=900)"
   ]
  },
  {
   "cell_type": "code",
   "execution_count": 3,
   "id": "3ffa5a5e-2b2a-4bf6-a6f4-53b6028959d5",
   "metadata": {},
   "outputs": [
    {
     "data": {
      "application/vnd.jupyter.widget-view+json": {
       "model_id": "5218a57b79924ceaa5c6516c2a34e48f",
       "version_major": 2,
       "version_minor": 0
      },
      "text/plain": [
       "ExampleWidget(full_image_path='/Users/akshat.saini/Documents/pj/forks/jupyterlab-extensions/jupyterlab_widget_…"
      ]
     },
     "execution_count": 3,
     "metadata": {},
     "output_type": "execute_result"
    }
   ],
   "source": [
    "widget4.ExampleWidget(imagePath='https://files.scb-ncats.io/pyramids/Idr0130/precompute/190618-Za-4x_Plate_13854/x(00-15)_y(01-24)_c(1-2)/', height=900)"
   ]
  },
  {
   "cell_type": "code",
   "execution_count": null,
   "id": "caeb4b1d-d48c-459a-8a94-6d059544d2a0",
   "metadata": {},
   "outputs": [],
   "source": []
  }
 ],
 "metadata": {
  "kernelspec": {
   "display_name": "Python 3 (ipykernel)",
   "language": "python",
   "name": "python3"
  },
  "language_info": {
   "codemirror_mode": {
    "name": "ipython",
    "version": 3
   },
   "file_extension": ".py",
   "mimetype": "text/x-python",
   "name": "python",
   "nbconvert_exporter": "python",
   "pygments_lexer": "ipython3",
   "version": "3.10.13"
  }
 },
 "nbformat": 4,
 "nbformat_minor": 5
}
