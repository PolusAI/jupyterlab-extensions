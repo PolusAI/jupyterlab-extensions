{
 "cells": [
  {
   "cell_type": "code",
   "execution_count": 1,
   "id": "82ff304d-b026-4fa0-9891-59ffe4cefb16",
   "metadata": {},
   "outputs": [],
   "source": [
    "import widget4"
   ]
  },
  {
   "cell_type": "code",
   "execution_count": 2,
   "id": "01730819-4c8b-4047-8f2d-f5fe28de24e7",
   "metadata": {},
   "outputs": [
    {
     "data": {
      "application/vnd.jupyter.widget-view+json": {
       "model_id": "5657d4ccf8594422a89b2caa03cb9303",
       "version_major": 2,
       "version_minor": 0
      },
      "text/plain": [
       "ExampleWidget(full_image_path='https://files.scb-ncats.io/pyramids/Idr0130/precompute/190618-Za-4x_Plate_13854…"
      ]
     },
     "execution_count": 2,
     "metadata": {},
     "output_type": "execute_result"
    }
   ],
   "source": [
    "widget4.ExampleWidget(imagePath='https://files.scb-ncats.io/pyramids/Idr0130/precompute/190618-Za-4x_Plate_13854/x(00-15)_y(01-24)_c(1-2)', height=900)"
   ]
  },
  {
   "cell_type": "code",
   "execution_count": null,
   "id": "4aae8c5e-097c-4a8c-8d25-7157e34d0968",
   "metadata": {},
   "outputs": [],
   "source": []
  }
 ],
 "metadata": {
  "kernelspec": {
   "display_name": "Python 3 (ipykernel)",
   "language": "python",
   "name": "python3"
  },
  "language_info": {
   "codemirror_mode": {
    "name": "ipython",
    "version": 3
   },
   "file_extension": ".py",
   "mimetype": "text/x-python",
   "name": "python",
   "nbconvert_exporter": "python",
   "pygments_lexer": "ipython3",
   "version": "3.10.13"
  }
 },
 "nbformat": 4,
 "nbformat_minor": 5
}
