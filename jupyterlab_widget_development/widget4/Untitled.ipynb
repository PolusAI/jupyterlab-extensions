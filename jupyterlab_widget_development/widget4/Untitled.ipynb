{
 "cells": [
  {
   "cell_type": "code",
   "execution_count": 1,
   "id": "3a6339c6-6ddd-41bf-81a3-2d01d92c34e8",
   "metadata": {},
   "outputs": [],
   "source": [
    "import widget4"
   ]
  },
  {
   "cell_type": "code",
   "execution_count": 6,
   "id": "a83165b7-1676-4864-afa1-43b9709f6316",
   "metadata": {},
   "outputs": [
    {
     "data": {
      "application/vnd.jupyter.widget-view+json": {
       "model_id": "aecfad2dc51e49a499ce399edf7f61ca",
       "version_major": 2,
       "version_minor": 0
      },
      "text/plain": [
       "ExampleWidget(full_image_path='/Users/akshat.saini/Documents/pj/forks/jupyterlab-extensions/jupyterlab_widget_…"
      ]
     },
     "execution_count": 6,
     "metadata": {},
     "output_type": "execute_result"
    }
   ],
   "source": [
    "widget4.ExampleWidget(height=500)"
   ]
  },
  {
   "cell_type": "code",
   "execution_count": 8,
   "id": "04ba2f6b-e549-43fc-83f4-a18c27c483e3",
   "metadata": {},
   "outputs": [
    {
     "data": {
      "application/vnd.jupyter.widget-view+json": {
       "model_id": "9decf408fd4048858f89586019d5718d",
       "version_major": 2,
       "version_minor": 0
      },
      "text/plain": [
       "ExampleWidget(full_image_path='/Users/akshat.saini/Documents/pj/forks/jupyterlab-extensions/jupyterlab_widget_…"
      ]
     },
     "execution_count": 8,
     "metadata": {},
     "output_type": "execute_result"
    }
   ],
   "source": [
    "widget4.ExampleWidget(imagePath='images/LuCa-7color_3x3component_data.ome.tif', height=900)"
   ]
  },
  {
   "cell_type": "code",
   "execution_count": 5,
   "id": "711cf03c-46d9-41a4-b6e4-016c51cfb824",
   "metadata": {},
   "outputs": [
    {
     "data": {
      "application/vnd.jupyter.widget-view+json": {
       "model_id": "db7c7b0c9d274a6cbcc403571c9d5838",
       "version_major": 2,
       "version_minor": 0
      },
      "text/plain": [
       "ExampleWidget(full_image_path='/Users/akshat.saini/Documents/pj/forks/jupyterlab-extensions/jupyterlab_widget_…"
      ]
     },
     "execution_count": 5,
     "metadata": {},
     "output_type": "execute_result"
    }
   ],
   "source": [
    "widget4.ExampleWidget(imagePath='images/LuCa-7color_3x3component_data.ome.tif', height=900)"
   ]
  },
  {
   "cell_type": "code",
   "execution_count": null,
   "id": "db35a590-82d5-4c2d-bca4-4401b8574a91",
   "metadata": {},
   "outputs": [],
   "source": []
  }
 ],
 "metadata": {
  "kernelspec": {
   "display_name": "Python 3 (ipykernel)",
   "language": "python",
   "name": "python3"
  },
  "language_info": {
   "codemirror_mode": {
    "name": "ipython",
    "version": 3
   },
   "file_extension": ".py",
   "mimetype": "text/x-python",
   "name": "python",
   "nbconvert_exporter": "python",
   "pygments_lexer": "ipython3",
   "version": "3.10.13"
  }
 },
 "nbformat": 4,
 "nbformat_minor": 5
}
