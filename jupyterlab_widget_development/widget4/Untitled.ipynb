{
 "cells": [
  {
   "cell_type": "code",
   "execution_count": 1,
   "id": "798f9e0c-40ee-4799-b62a-66fca1611a56",
   "metadata": {},
   "outputs": [],
   "source": [
    "import widget4"
   ]
  },
  {
   "cell_type": "code",
   "execution_count": 2,
   "id": "735e10f6-d55a-4afc-93f1-7b85745ddb69",
   "metadata": {},
   "outputs": [
    {
     "data": {
      "application/vnd.jupyter.widget-view+json": {
       "model_id": "820bafc9cd5d43bdacc92f403387f040",
       "version_major": 2,
       "version_minor": 0
      },
      "text/plain": [
       "ExampleWidget(full_image_path='/Users/akshat.saini/Documents/pj/forks/jupyterlab-extensions/jupyterlab_widget_…"
      ]
     },
     "execution_count": 2,
     "metadata": {},
     "output_type": "execute_result"
    }
   ],
   "source": [
    "widget4.ExampleWidget()"
   ]
  },
  {
   "cell_type": "code",
   "execution_count": 4,
   "id": "1cf94bba-f792-447c-9412-500cf312958a",
   "metadata": {},
   "outputs": [
    {
     "data": {
      "application/vnd.jupyter.widget-view+json": {
       "model_id": "0ae5a2925f8d403a8cc0bf23443e379f",
       "version_major": 2,
       "version_minor": 0
      },
      "text/plain": [
       "ExampleWidget(full_image_path='/Users/akshat.saini/Documents/pj/forks/jupyterlab-extensions/jupyterlab_widget_…"
      ]
     },
     "execution_count": 4,
     "metadata": {},
     "output_type": "execute_result"
    }
   ],
   "source": [
    "widget4.ExampleWidget(imagePath='images/LuCa-7color_3x3component_data.ome.tif')"
   ]
  },
  {
   "cell_type": "code",
   "execution_count": 6,
   "id": "f9e3c293-5771-4d9f-905f-d4c2aea09d54",
   "metadata": {},
   "outputs": [
    {
     "data": {
      "application/vnd.jupyter.widget-view+json": {
       "model_id": "92549b17b13b422aa523583f9c49c426",
       "version_major": 2,
       "version_minor": 0
      },
      "text/plain": [
       "ExampleWidget(full_image_path='/Users/akshat.saini/Documents/pj/forks/jupyterlab-extensions/jupyterlab_widget_…"
      ]
     },
     "execution_count": 6,
     "metadata": {},
     "output_type": "execute_result"
    }
   ],
   "source": [
    "widget4.ExampleWidget(imagePath='/Users/akshat.saini/Documents/pj/forks/jupyterlab-extensions/jupyterlab_widget_development/widget4/images/LuCa-7color_3x3component_data.ome.tif')"
   ]
  },
  {
   "cell_type": "code",
   "execution_count": null,
   "id": "858b8b9e-b631-4070-8ee9-93962191a6f9",
   "metadata": {},
   "outputs": [],
   "source": []
  }
 ],
 "metadata": {
  "kernelspec": {
   "display_name": "Python 3 (ipykernel)",
   "language": "python",
   "name": "python3"
  },
  "language_info": {
   "codemirror_mode": {
    "name": "ipython",
    "version": 3
   },
   "file_extension": ".py",
   "mimetype": "text/x-python",
   "name": "python",
   "nbconvert_exporter": "python",
   "pygments_lexer": "ipython3",
   "version": "3.10.13"
  }
 },
 "nbformat": 4,
 "nbformat_minor": 5
}
