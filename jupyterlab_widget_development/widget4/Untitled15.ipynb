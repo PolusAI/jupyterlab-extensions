{
 "cells": [
  {
   "cell_type": "code",
   "execution_count": 1,
   "id": "fd987991-21e7-40ea-901d-5d746c0af491",
   "metadata": {},
   "outputs": [],
   "source": [
    "import widget4"
   ]
  },
  {
   "cell_type": "code",
   "execution_count": 3,
   "id": "6680c073-22a9-4290-ad0f-f033355afeee",
   "metadata": {},
   "outputs": [
    {
     "data": {
      "application/vnd.jupyter.widget-view+json": {
       "model_id": "d2941022fb674297a89cbfd16e6759ad",
       "version_major": 2,
       "version_minor": 0
      },
      "text/plain": [
       "ExampleWidget(imageUrl='images/home.png')"
      ]
     },
     "execution_count": 3,
     "metadata": {},
     "output_type": "execute_result"
    }
   ],
   "source": [
    "widget4.ExampleWidget(imageUrl='images/home.png')"
   ]
  },
  {
   "cell_type": "code",
   "execution_count": null,
   "id": "027decb3-9e54-47ed-8707-84b2cbafe51d",
   "metadata": {},
   "outputs": [],
   "source": []
  }
 ],
 "metadata": {
  "kernelspec": {
   "display_name": "Python 3 (ipykernel)",
   "language": "python",
   "name": "python3"
  },
  "language_info": {
   "codemirror_mode": {
    "name": "ipython",
    "version": 3
   },
   "file_extension": ".py",
   "mimetype": "text/x-python",
   "name": "python",
   "nbconvert_exporter": "python",
   "pygments_lexer": "ipython3",
   "version": "3.10.13"
  }
 },
 "nbformat": 4,
 "nbformat_minor": 5
}
