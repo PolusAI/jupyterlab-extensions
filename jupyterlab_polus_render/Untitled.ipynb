{
 "cells": [
  {
   "cell_type": "code",
   "execution_count": 1,
   "id": "8ddfc116-9f7e-4373-b2ab-99a8d79a0f35",
   "metadata": {},
   "outputs": [],
   "source": [
    "from pathlib import Path"
   ]
  },
  {
   "cell_type": "code",
   "execution_count": 2,
   "id": "fcd41457-a401-4d93-96fb-bad3f96969ce",
   "metadata": {},
   "outputs": [
    {
     "name": "stdout",
     "output_type": "stream",
     "text": [
      "/Users/sainia2/Documents/pj/forks/jupyterlab-extensions/jupyterlab_polus_render\n"
     ]
    }
   ],
   "source": [
    "print( Path.cwd() )"
   ]
  },
  {
   "cell_type": "code",
   "execution_count": null,
   "id": "75c003d7-4f98-4cab-96e8-97d401649758",
   "metadata": {},
   "outputs": [],
   "source": []
  }
 ],
 "metadata": {
  "kernelspec": {
   "display_name": "Python 3 (ipykernel)",
   "language": "python",
   "name": "python3"
  },
  "language_info": {
   "codemirror_mode": {
    "name": "ipython",
    "version": 3
   },
   "file_extension": ".py",
   "mimetype": "text/x-python",
   "name": "python",
   "nbconvert_exporter": "python",
   "pygments_lexer": "ipython3",
   "version": "3.10.14"
  }
 },
 "nbformat": 4,
 "nbformat_minor": 5
}
