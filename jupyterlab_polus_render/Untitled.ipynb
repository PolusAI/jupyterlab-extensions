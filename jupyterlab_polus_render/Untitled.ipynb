{
 "cells": [
  {
   "cell_type": "code",
   "execution_count": 1,
   "id": "976968a6-5acc-48df-862f-966a4f0a2c1d",
   "metadata": {},
   "outputs": [],
   "source": [
    "import jupyterlab_polus_render"
   ]
  },
  {
   "cell_type": "code",
   "execution_count": 2,
   "id": "86287ea9-694c-42ac-a694-00272854ae95",
   "metadata": {},
   "outputs": [
    {
     "data": {
      "application/vnd.jupyter.widget-view+json": {
       "model_id": "0877bdaa589b4750a2e2385764aec43d",
       "version_major": 2,
       "version_minor": 0
      },
      "text/plain": [
       "Render(full_image_path='/Users/akshat.saini/Documents/pj/forks/jupyterlab-extensions/jupyterlab_polus_render',…"
      ]
     },
     "execution_count": 2,
     "metadata": {},
     "output_type": "execute_result"
    }
   ],
   "source": [
    "jupyterlab_polus_render.Render(height = 900)"
   ]
  },
  {
   "cell_type": "code",
   "execution_count": null,
   "id": "f6ce7f84-eec1-40f0-8b05-0c9853b2fd7c",
   "metadata": {},
   "outputs": [],
   "source": []
  }
 ],
 "metadata": {
  "kernelspec": {
   "display_name": "Python 3 (ipykernel)",
   "language": "python",
   "name": "python3"
  },
  "language_info": {
   "codemirror_mode": {
    "name": "ipython",
    "version": 3
   },
   "file_extension": ".py",
   "mimetype": "text/x-python",
   "name": "python",
   "nbconvert_exporter": "python",
   "pygments_lexer": "ipython3",
   "version": "3.10.13"
  }
 },
 "nbformat": 4,
 "nbformat_minor": 5
}
