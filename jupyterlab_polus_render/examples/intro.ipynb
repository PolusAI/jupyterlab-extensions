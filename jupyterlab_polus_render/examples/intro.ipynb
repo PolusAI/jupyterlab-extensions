{
 "cells": [
  {
   "cell_type": "code",
   "execution_count": 1,
   "id": "8913ae6f-16cd-4c33-878d-b5e0d0cb279b",
   "metadata": {},
   "outputs": [],
   "source": [
    "from jupyterlab_polus_render import Render"
   ]
  },
  {
   "cell_type": "code",
   "execution_count": 2,
   "id": "1ef25860-fb82-4d99-917a-6da0c3366767",
   "metadata": {
    "scrolled": true
   },
   "outputs": [
    {
     "data": {
      "application/vnd.jupyter.widget-view+json": {
       "model_id": "d4e996088a3d433daa6d5ffd12c93559",
       "version_major": 2,
       "version_minor": 0
      },
      "text/plain": [
       "Render(imagePath='/Users/sainia2/Documents/pj/forks/jupyterlab-extensions/jupyterlab_polus_render/examples/../…"
      ]
     },
     "execution_count": 2,
     "metadata": {},
     "output_type": "execute_result"
    }
   ],
   "source": [
    "Render(imagePath = '../images/LuCa-7color_3x3component_data.ome.tif')"
   ]
  },
  {
   "cell_type": "code",
   "execution_count": 5,
   "id": "e2e879af",
   "metadata": {},
   "outputs": [
    {
     "data": {
      "application/vnd.jupyter.widget-view+json": {
       "model_id": "e1963e6177ee41e096d01919c0ebd7b3",
       "version_major": 2,
       "version_minor": 0
      },
      "text/plain": [
       "Render(imagePath='https://viv-demo.storage.googleapis.com/idr0106.pyramid.ome.tif', is_imagePath_url=True, not…"
      ]
     },
     "execution_count": 5,
     "metadata": {},
     "output_type": "execute_result"
    }
   ],
   "source": [
    "Render(imagePath = 'https://viv-demo.storage.googleapis.com/idr0106.pyramid.ome.tif')"
   ]
  },
  {
   "cell_type": "code",
   "execution_count": 3,
   "id": "520ef52e-2f81-4c52-9c2f-c858e82d59e4",
   "metadata": {},
   "outputs": [],
   "source": [
    "r = Render(imagePath = '../images/LuCa-7color_3x3component_data.ome.tif')"
   ]
  },
  {
   "cell_type": "code",
   "execution_count": 4,
   "id": "a8f1218a-a189-4542-9ee4-4fca5b0c86bd",
   "metadata": {},
   "outputs": [
    {
     "data": {
      "application/vnd.jupyter.widget-view+json": {
       "model_id": "db9cb898b00948a1a565ad7b82680cc5",
       "version_major": 2,
       "version_minor": 0
      },
      "text/plain": [
       "Render(imagePath='/Users/sainia2/Documents/pj/forks/jupyterlab-extensions/jupyterlab_polus_render/examples/../…"
      ]
     },
     "execution_count": 4,
     "metadata": {},
     "output_type": "execute_result"
    }
   ],
   "source": [
    "r"
   ]
  },
  {
   "cell_type": "code",
   "execution_count": 5,
   "id": "a3eaa802-f2ed-4ee4-8191-7c0befb89ca8",
   "metadata": {},
   "outputs": [
    {
     "data": {
      "text/plain": [
       "False"
      ]
     },
     "execution_count": 5,
     "metadata": {},
     "output_type": "execute_result"
    }
   ],
   "source": [
    "r.is_imagePath_url"
   ]
  },
  {
   "cell_type": "code",
   "execution_count": 6,
   "id": "2f6aaf29-5a4f-4b2f-ac5a-4912097de53d",
   "metadata": {},
   "outputs": [],
   "source": [
    "r.imagePath = 'https://viv-demo.storage.googleapis.com/idr0106.pyramid.ome.tif'"
   ]
  },
  {
   "cell_type": "code",
   "execution_count": 8,
   "id": "7c6e6fe4-0133-4281-a1b6-f94227dceb1a",
   "metadata": {},
   "outputs": [
    {
     "name": "stdout",
     "output_type": "stream",
     "text": [
      "https://viv-demo.storage.googleapis.com/idr0106.pyramid.ome.tif\n"
     ]
    }
   ],
   "source": [
    "print(r.imagePath)"
   ]
  },
  {
   "cell_type": "code",
   "execution_count": 9,
   "id": "0f72b629-e855-4484-ae82-c4b5aaa73412",
   "metadata": {},
   "outputs": [
    {
     "data": {
      "text/plain": [
       "True"
      ]
     },
     "execution_count": 9,
     "metadata": {},
     "output_type": "execute_result"
    }
   ],
   "source": [
    "r.is_imagePath_url"
   ]
  },
  {
   "cell_type": "code",
   "execution_count": 10,
   "id": "71badd13-5989-4a4a-a1ec-5e2a3c54eb89",
   "metadata": {},
   "outputs": [
    {
     "data": {
      "application/vnd.jupyter.widget-view+json": {
       "model_id": "df4617a92c874d7093d4bb57cf099e63",
       "version_major": 2,
       "version_minor": 0
      },
      "text/plain": [
       "Render(imagePath='https://viv-demo.storage.googleapis.com/idr0106.pyramid.ome.tif', is_imagePath_url=True, not…"
      ]
     },
     "execution_count": 10,
     "metadata": {},
     "output_type": "execute_result"
    }
   ],
   "source": [
    "r"
   ]
  },
  {
   "cell_type": "code",
   "execution_count": 7,
   "id": "e3dbd19a-8779-4660-a93e-4de86db8441e",
   "metadata": {},
   "outputs": [],
   "source": [
    "r.imagePath = '../images/LuCa-7color_3x3component_data.ome.tif'"
   ]
  },
  {
   "cell_type": "code",
   "execution_count": 15,
   "id": "2e6b9fca-94cb-4d6c-94bc-cd64e705e080",
   "metadata": {},
   "outputs": [],
   "source": [
    "r.imagePath = '../images/LuCa-7color_3x3component_data.ome.tif'"
   ]
  },
  {
   "cell_type": "code",
   "execution_count": null,
   "id": "77670344-863c-4019-ba1d-3077945141e7",
   "metadata": {},
   "outputs": [],
   "source": []
  }
 ],
 "metadata": {
  "kernelspec": {
   "display_name": "Python 3 (ipykernel)",
   "language": "python",
   "name": "python3"
  },
  "language_info": {
   "codemirror_mode": {
    "name": "ipython",
    "version": 3
   },
   "file_extension": ".py",
   "mimetype": "text/x-python",
   "name": "python",
   "nbconvert_exporter": "python",
   "pygments_lexer": "ipython3",
   "version": "3.10.14"
  }
 },
 "nbformat": 4,
 "nbformat_minor": 5
}
