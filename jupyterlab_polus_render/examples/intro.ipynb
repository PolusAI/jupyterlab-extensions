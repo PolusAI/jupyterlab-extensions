{
 "cells": [
  {
   "cell_type": "code",
   "execution_count": 1,
   "id": "58a52b59-65f1-4876-aa1e-f5d823fe996d",
   "metadata": {},
   "outputs": [],
   "source": [
    "from jupyterlab_polus_render import Render"
   ]
  },
  {
   "cell_type": "code",
   "execution_count": 2,
   "id": "1ef25860-fb82-4d99-917a-6da0c3366767",
   "metadata": {
    "scrolled": true
   },
   "outputs": [
    {
     "name": "stdout",
     "output_type": "stream",
     "text": [
      "Path is a local file: /Users/sainia2/Documents/pj/forks/jupyterlab-extensions/jupyterlab_polus_render/examples/../images/LuCa-7color_3x3component_data.ome.tif\n",
      "Image path changed: /Users/sainia2/Documents/pj/forks/jupyterlab-extensions/jupyterlab_polus_render/examples/../images/LuCa-7color_3x3component_data.ome.tif\n",
      "Path is a local file: /Users/sainia2/Documents/pj/forks/jupyterlab-extensions/jupyterlab_polus_render/examples/../images/LuCa-7color_3x3component_data.ome.tif\n",
      "Updated imagePath: /Users/sainia2/Documents/pj/forks/jupyterlab-extensions/jupyterlab_polus_render/examples/../images/LuCa-7color_3x3component_data.ome.tif, is_imagePath_url: False\n",
      "Path is a local file: /Users/sainia2/Documents/pj/forks/jupyterlab-extensions/jupyterlab_polus_render/examples\n",
      "Path is a local file: /Users/sainia2/Documents/pj/forks/jupyterlab-extensions/jupyterlab_polus_render/examples\n"
     ]
    },
    {
     "data": {
      "application/vnd.jupyter.widget-view+json": {
       "model_id": "73ea462ca38f4438aab886edd8102c28",
       "version_major": 2,
       "version_minor": 0
      },
      "text/plain": [
       "Render(imagePath='/Users/sainia2/Documents/pj/forks/jupyterlab-extensions/jupyterlab_polus_render/examples/../…"
      ]
     },
     "execution_count": 2,
     "metadata": {},
     "output_type": "execute_result"
    }
   ],
   "source": [
    "Render(imagePath = '../images/LuCa-7color_3x3component_data.ome.tif')"
   ]
  },
  {
   "cell_type": "code",
   "execution_count": null,
   "id": "e2e879af",
   "metadata": {
    "scrolled": true
   },
   "outputs": [],
   "source": [
    "Render(imagePath = 'https://viv-demo.storage.googleapis.com/idr0106.pyramid.ome.tif')"
   ]
  },
  {
   "cell_type": "code",
   "execution_count": 3,
   "id": "520ef52e-2f81-4c52-9c2f-c858e82d59e4",
   "metadata": {},
   "outputs": [
    {
     "name": "stdout",
     "output_type": "stream",
     "text": [
      "Path is a local file: /Users/sainia2/Documents/pj/forks/jupyterlab-extensions/jupyterlab_polus_render/examples/../images/LuCa-7color_3x3component_data.ome.tif\n",
      "Image path changed: /Users/sainia2/Documents/pj/forks/jupyterlab-extensions/jupyterlab_polus_render/examples/../images/LuCa-7color_3x3component_data.ome.tif\n",
      "Path is a local file: /Users/sainia2/Documents/pj/forks/jupyterlab-extensions/jupyterlab_polus_render/examples/../images/LuCa-7color_3x3component_data.ome.tif\n",
      "Updated imagePath: /Users/sainia2/Documents/pj/forks/jupyterlab-extensions/jupyterlab_polus_render/examples/../images/LuCa-7color_3x3component_data.ome.tif, is_imagePath_url: False\n",
      "Path is a local file: /Users/sainia2/Documents/pj/forks/jupyterlab-extensions/jupyterlab_polus_render/examples\n",
      "Path is a local file: /Users/sainia2/Documents/pj/forks/jupyterlab-extensions/jupyterlab_polus_render/examples\n"
     ]
    }
   ],
   "source": [
    "r = Render(imagePath = '../images/LuCa-7color_3x3component_data.ome.tif')"
   ]
  },
  {
   "cell_type": "code",
   "execution_count": 4,
   "id": "a3eaa802-f2ed-4ee4-8191-7c0befb89ca8",
   "metadata": {},
   "outputs": [
    {
     "data": {
      "text/plain": [
       "False"
      ]
     },
     "execution_count": 4,
     "metadata": {},
     "output_type": "execute_result"
    }
   ],
   "source": [
    "r.is_imagePath_url"
   ]
  },
  {
   "cell_type": "code",
   "execution_count": 5,
   "id": "a8f1218a-a189-4542-9ee4-4fca5b0c86bd",
   "metadata": {
    "scrolled": true
   },
   "outputs": [
    {
     "data": {
      "application/vnd.jupyter.widget-view+json": {
       "model_id": "4c6d4246e4464cd28c307cf66471f605",
       "version_major": 2,
       "version_minor": 0
      },
      "text/plain": [
       "Render(imagePath='/Users/sainia2/Documents/pj/forks/jupyterlab-extensions/jupyterlab_polus_render/examples/../…"
      ]
     },
     "execution_count": 5,
     "metadata": {},
     "output_type": "execute_result"
    }
   ],
   "source": [
    "r"
   ]
  },
  {
   "cell_type": "code",
   "execution_count": 6,
   "id": "2f6aaf29-5a4f-4b2f-ac5a-4912097de53d",
   "metadata": {},
   "outputs": [
    {
     "name": "stdout",
     "output_type": "stream",
     "text": [
      "Image path changed: https://viv-demo.storage.googleapis.com/idr0106.pyramid.ome.tif\n",
      "Path is a URL: https://viv-demo.storage.googleapis.com/idr0106.pyramid.ome.tif\n",
      "Updated imagePath: https://viv-demo.storage.googleapis.com/idr0106.pyramid.ome.tif, is_imagePath_url: True\n"
     ]
    }
   ],
   "source": [
    "r.imagePath = 'https://viv-demo.storage.googleapis.com/idr0106.pyramid.ome.tif'"
   ]
  },
  {
   "cell_type": "code",
   "execution_count": 7,
   "id": "7c6e6fe4-0133-4281-a1b6-f94227dceb1a",
   "metadata": {},
   "outputs": [
    {
     "name": "stdout",
     "output_type": "stream",
     "text": [
      "https://viv-demo.storage.googleapis.com/idr0106.pyramid.ome.tif\n"
     ]
    }
   ],
   "source": [
    "print(r.imagePath)"
   ]
  },
  {
   "cell_type": "code",
   "execution_count": 7,
   "id": "3fd3e203-23c5-4feb-ae08-0084e58c3567",
   "metadata": {},
   "outputs": [
    {
     "data": {
      "application/vnd.jupyter.widget-view+json": {
       "model_id": "a8992b381a57481ba866a87db9d5e4ad",
       "version_major": 2,
       "version_minor": 0
      },
      "text/plain": [
       "Render(imagePath='https://viv-demo.storage.googleapis.com/idr0106.pyramid.ome.tif', is_imagePath_url=True, not…"
      ]
     },
     "execution_count": 7,
     "metadata": {},
     "output_type": "execute_result"
    }
   ],
   "source": [
    "r"
   ]
  },
  {
   "cell_type": "code",
   "execution_count": 8,
   "id": "0f72b629-e855-4484-ae82-c4b5aaa73412",
   "metadata": {},
   "outputs": [
    {
     "data": {
      "text/plain": [
       "True"
      ]
     },
     "execution_count": 8,
     "metadata": {},
     "output_type": "execute_result"
    }
   ],
   "source": [
    "r.is_imagePath_url"
   ]
  },
  {
   "cell_type": "code",
   "execution_count": 9,
   "id": "53735950-b176-47c5-835b-b18f084c46ca",
   "metadata": {},
   "outputs": [],
   "source": [
    "r.imagePath = '../images/LuCa-7color_3x3component_data.ome.tif'"
   ]
  },
  {
   "cell_type": "code",
   "execution_count": 9,
   "id": "71badd13-5989-4a4a-a1ec-5e2a3c54eb89",
   "metadata": {
    "scrolled": true
   },
   "outputs": [
    {
     "data": {
      "application/vnd.jupyter.widget-view+json": {
       "model_id": "93846c323cea4b17b5d800123c821a62",
       "version_major": 2,
       "version_minor": 0
      },
      "text/plain": [
       "Render(base_url='/', imagePath='https://viv-demo.storage.googleapis.com/idr0106.pyramid.ome.tif', imageUrl='/j…"
      ]
     },
     "execution_count": 9,
     "metadata": {},
     "output_type": "execute_result"
    }
   ],
   "source": [
    "r"
   ]
  },
  {
   "cell_type": "code",
   "execution_count": null,
   "id": "905d46ef-e80a-4575-9b7f-1a20f00d31b9",
   "metadata": {},
   "outputs": [],
   "source": []
  }
 ],
 "metadata": {
  "kernelspec": {
   "display_name": "Python 3 (ipykernel)",
   "language": "python",
   "name": "python3"
  },
  "language_info": {
   "codemirror_mode": {
    "name": "ipython",
    "version": 3
   },
   "file_extension": ".py",
   "mimetype": "text/x-python",
   "name": "python",
   "nbconvert_exporter": "python",
   "pygments_lexer": "ipython3",
   "version": "3.10.14"
  }
 },
 "nbformat": 4,
 "nbformat_minor": 5
}
