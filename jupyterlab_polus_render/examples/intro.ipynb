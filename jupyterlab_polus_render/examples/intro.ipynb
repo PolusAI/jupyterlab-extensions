{
 "cells": [
  {
   "cell_type": "code",
   "execution_count": null,
   "id": "8913ae6f-16cd-4c33-878d-b5e0d0cb279b",
   "metadata": {},
   "outputs": [],
   "source": [
    "from jupyterlab_polus_render import Render"
   ]
  },
  {
   "cell_type": "code",
   "execution_count": null,
   "id": "1ef25860-fb82-4d99-917a-6da0c3366767",
   "metadata": {
    "scrolled": true
   },
   "outputs": [],
   "source": [
    "Render(imagePath = '../images/LuCa-7color_3x3component_data.ome.tif')"
   ]
  },
  {
   "cell_type": "code",
   "execution_count": null,
   "id": "e2e879af",
   "metadata": {},
   "outputs": [],
   "source": [
    "Render(imagePath = 'https://viv-demo.storage.googleapis.com/idr0106.pyramid.ome.tif')"
   ]
  },
  {
   "cell_type": "code",
   "execution_count": null,
   "id": "520ef52e-2f81-4c52-9c2f-c858e82d59e4",
   "metadata": {},
   "outputs": [],
   "source": [
    "r = Render(imagePath = '../images/LuCa-7color_3x3component_data.ome.tif')"
   ]
  },
  {
   "cell_type": "code",
   "execution_count": null,
   "id": "fb716e98-9ee6-4775-8a6a-258e3b5faf59",
   "metadata": {},
   "outputs": [],
   "source": [
    "r.is_imagePath_url"
   ]
  },
  {
   "cell_type": "code",
   "execution_count": null,
   "id": "2f6aaf29-5a4f-4b2f-ac5a-4912097de53d",
   "metadata": {},
   "outputs": [],
   "source": [
    "r.imagePath = 'https://viv-demo.storage.googleapis.com/idr0106.pyramid.ome.tif'"
   ]
  },
  {
   "cell_type": "code",
   "execution_count": null,
   "id": "a3eaa802-f2ed-4ee4-8191-7c0befb89ca8",
   "metadata": {},
   "outputs": [],
   "source": [
    "r.is_imagePath_url"
   ]
  },
  {
   "cell_type": "code",
   "execution_count": null,
   "id": "e3dbd19a-8779-4660-a93e-4de86db8441e",
   "metadata": {},
   "outputs": [],
   "source": [
    "r.imagePath = '../images/LuCa-7color_3x3component_data.ome.tif'"
   ]
  },
  {
   "cell_type": "code",
   "execution_count": null,
   "id": "0f72b629-e855-4484-ae82-c4b5aaa73412",
   "metadata": {},
   "outputs": [],
   "source": [
    "r.is_imagePath_url"
   ]
  }
 ],
 "metadata": {
  "kernelspec": {
   "display_name": "Python 3 (ipykernel)",
   "language": "python",
   "name": "python3"
  },
  "language_info": {
   "codemirror_mode": {
    "name": "ipython",
    "version": 3
   },
   "file_extension": ".py",
   "mimetype": "text/x-python",
   "name": "python",
   "nbconvert_exporter": "python",
   "pygments_lexer": "ipython3",
   "version": "3.10.14"
  }
 },
 "nbformat": 4,
 "nbformat_minor": 5
}
